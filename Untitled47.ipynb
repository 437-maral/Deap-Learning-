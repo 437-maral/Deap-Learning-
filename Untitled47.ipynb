{
  "nbformat": 4,
  "nbformat_minor": 0,
  "metadata": {
    "colab": {
      "provenance": [],
      "authorship_tag": "ABX9TyMj5sEwSfdbtTfiuDI2gLtV",
      "include_colab_link": true
    },
    "kernelspec": {
      "name": "python3",
      "display_name": "Python 3"
    },
    "language_info": {
      "name": "python"
    }
  },
  "cells": [
    {
      "cell_type": "markdown",
      "metadata": {
        "id": "view-in-github",
        "colab_type": "text"
      },
      "source": [
        "<a href=\"https://colab.research.google.com/github/437-maral/Deap-Learning-/blob/main/Untitled47.ipynb\" target=\"_parent\"><img src=\"https://colab.research.google.com/assets/colab-badge.svg\" alt=\"Open In Colab\"/></a>"
      ]
    },
    {
      "cell_type": "code",
      "execution_count": 28,
      "metadata": {
        "colab": {
          "base_uri": "https://localhost:8080/"
        },
        "id": "R1dw2_UT33Rl",
        "outputId": "aa4e3c4e-28e6-45ad-a3d4-f9da4c75fca2"
      },
      "outputs": [
        {
          "output_type": "execute_result",
          "data": {
            "text/plain": [
              "[{'PART_NUMBER': '0121F00548',\n",
              "  'BRANCH_ID': 'TUC',\n",
              "  'PART_PRICE': 3.14,\n",
              "  'SHORT_DESC': 'GALV x FAB x 0121F00548 x 16093 x .026 x 29.88 x 17.56'},\n",
              " {'PART_NUMBER': '0121G00047P',\n",
              "  'BRANCH_ID': 'TUC',\n",
              "  'PART_PRICE': 42.5,\n",
              "  'SHORT_DESC': 'GALV x FAB x .026 x 29.88 x 17.56'},\n",
              " {'PART_NUMBER': '0121G00509',\n",
              "  'BRANCH_ID': 'CIN',\n",
              "  'PART_PRICE': 3.14,\n",
              "  'SHORT_DESC': 'GALV x FAB x 0121F00548 x 16093 x .026 x 29.88 x 17.56'},\n",
              " {'PART_NUMBER': '0163D00006-T006',\n",
              "  'BRANCH_ID': 'CIN',\n",
              "  'PART_PRICE': 3.14,\n",
              "  'SHORT_DESC': 'GALV x FAB x 0121F00548'},\n",
              " {'PART_NUMBER': '05700-001-16-88',\n",
              "  'BRANCH_ID': 'TUC',\n",
              "  'PART_PRICE': 3.14,\n",
              "  'SHORT_DESC': 'GALV x FAB x 0121F00548'},\n",
              " {'PART_NUMBER': '05700-002-11-15',\n",
              "  'BRANCH_ID': 'TUC',\n",
              "  'PART_PRICE': 3.14,\n",
              "  'SHORT_DESC': 'GALV x FAB x 0121F00548'},\n",
              " {'PART_NUMBER': '102430',\n",
              "  'BRANCH_ID': 'TUC',\n",
              "  'PART_PRICE': 3.14,\n",
              "  'SHORT_DESC': 'GALV x FAB x 0121F00548'},\n",
              " {'PART_NUMBER': '0163D00007',\n",
              "  'BRANCH_ID': 'CIN',\n",
              "  'PART_PRICE': 4.27,\n",
              "  'SHORT_DESC': 'GALV x FAB x 0121F00548'}]"
            ]
          },
          "metadata": {},
          "execution_count": 28
        }
      ],
      "source": [
        "\n",
        "### google colab\n",
        "\n",
        "import sqlite3\n",
        "import csv\n",
        "\n",
        "conn = sqlite3.connect('challenge.db')  # Creates an in-memory database. Replace ':memory:' with a filename to save to disk.\n",
        "cursor = conn.cursor()\n",
        "\n",
        "cursor.execute('''\n",
        "    CREATE TABLE IF NOT EXISTS products (\n",
        "        PART_NUMBER ,\n",
        "        BRANCH_ID ,\n",
        "        PART_PRICE ,\n",
        "        SHORT_DESC\n",
        "    )\n",
        "''')\n",
        "\n",
        "conn.commit()\n",
        "\n",
        "\n",
        "##Note\n",
        "\n",
        "# to use multiple times , I created function\n",
        "# to update corresponding products , I used intsert and replace\n",
        "# to delete product that are in csv , I used a bolean factor  and list of product numbers  to check\n",
        "\n",
        "\n",
        "\n",
        "\n",
        "def csv_to_sql(csvfile, missing=False):\n",
        "    part_numbers = []\n",
        "\n",
        "    with open(csvfile, 'r') as file:\n",
        "        reader = csv.DictReader(file, delimiter='|')\n",
        "\n",
        "        for row in reader:\n",
        "\n",
        "            cursor.execute('''\n",
        "                INSERT OR REPLACE INTO products (PART_NUMBER, BRANCH_ID, PART_PRICE, SHORT_DESC)\n",
        "                VALUES (?, ?, ?, ?)\n",
        "            ''', (row['PART_NUMBER'], row['BRANCH_ID'], float(row['PART_PRICE']), row['SHORT_DESC']))\n",
        "\n",
        "            # Add the current part_number to our list\n",
        "            part_numbers.append(row['PART_NUMBER'])\n",
        "\n",
        "    conn.commit()\n",
        "\n",
        "    # Delete entries\n",
        "    if missing:\n",
        "        symbol = ', '.join(['?'] * len(part_numbers))\n",
        "        cursor.execute(f'''\n",
        "            DELETE FROM products WHERE PART_NUMBER NOT IN ({symbol})\n",
        "        ''', tuple(part_numbers))\n",
        "\n",
        "        # Commit the deletion changes\n",
        "        conn.commit()\n",
        "\n",
        "# Usage\n",
        "csv_to_sql('data.csv', missing=True)\n",
        "\n",
        "\n",
        "## This data suppose to be shown in a list later.\n",
        "\n",
        "def data_to_list():\n",
        "    cursor.execute('SELECT PART_NUMBER, BRANCH_ID, PART_PRICE, SHORT_DESC FROM products')\n",
        "    products = []\n",
        "    for row in cursor.fetchall():\n",
        "        product = {\n",
        "            'PART_NUMBER': row[0],\n",
        "            'BRANCH_ID': row[1],\n",
        "            'PART_PRICE': row[2],\n",
        "            'SHORT_DESC': row[3]\n",
        "        }\n",
        "        products.append(product)\n",
        "    return products\n",
        "\n",
        "\n",
        "\n",
        "\n",
        "\n",
        "\n",
        "\n",
        "\n",
        "\n",
        "\n",
        "\n",
        "\n",
        "\n",
        "\n",
        "\n",
        "\n",
        "\n",
        "\n",
        "\n",
        "\n"
      ]
    },
    {
      "cell_type": "code",
      "source": [
        "type(data_to_list())"
      ],
      "metadata": {
        "colab": {
          "base_uri": "https://localhost:8080/"
        },
        "id": "5W2nMonXpaHW",
        "outputId": "5a3caa55-3bf2-468b-dcb9-b3b5cd8d1a78"
      },
      "execution_count": 29,
      "outputs": [
        {
          "output_type": "execute_result",
          "data": {
            "text/plain": [
              "list"
            ]
          },
          "metadata": {},
          "execution_count": 29
        }
      ]
    }
  ]
}