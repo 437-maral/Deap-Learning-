{
  "nbformat": 4,
  "nbformat_minor": 0,
  "metadata": {
    "colab": {
      "provenance": [],
      "authorship_tag": "ABX9TyMpmJ8Bg6pbzJfDHeanl51k",
      "include_colab_link": true
    },
    "kernelspec": {
      "name": "python3",
      "display_name": "Python 3"
    },
    "language_info": {
      "name": "python"
    }
  },
  "cells": [
    {
      "cell_type": "markdown",
      "metadata": {
        "id": "view-in-github",
        "colab_type": "text"
      },
      "source": [
        "<a href=\"https://colab.research.google.com/github/437-maral/Deap-Learning-/blob/main/GNN.ipynb\" target=\"_parent\"><img src=\"https://colab.research.google.com/assets/colab-badge.svg\" alt=\"Open In Colab\"/></a>"
      ]
    },
    {
      "cell_type": "code",
      "execution_count": 1,
      "metadata": {
        "id": "MgK8EQCK5ifP"
      },
      "outputs": [],
      "source": [
        "from typing import List, Callable, Tuple\n",
        "\n",
        "import torch\n",
        "import torch.nn as nn\n",
        "import torch.nn.functional as F\n",
        "import matplotlib.pyplot as plt"
      ]
    },
    {
      "cell_type": "code",
      "source": [
        "lblock = torch.tensor([[0.,0.], [1.,0.], [2.,0.], [0.,1.], [1.,1.], [2.,1.], [1.,2.], [2.,2.], [1.,3.], [2.,3.]])\n",
        "square = torch.tensor([[0.,0.], [1.,0.], [2.,0.], [0.,1.], [1.,1.], [2.,1.], [0.,2.], [1.,2.], [2.,2.]])\n",
        "line = torch.tensor([[0.,0.], [1.,0.], [2.,0.], [3.,0.], [4.,0.], [0.,1.], [1.,1.], [2.,1.], [3.,1.], [4.,1.]])\n",
        "step = torch.tensor([[0.,0.], [1.,0.], [2.,0.], [0.,1.], [1.,1.], [2.,1.], [3.,1.], [1.,2.], [2.,2.], [3.,2.]])\n",
        "tblock = torch.tensor([[0.,0.], [1.,0.], [2.,0.], [3.,0.], [0.,1.], [1.,1.], [2.,1.], [3.,1.], [1.,2.], [2.,2.]])\n",
        "tetris_blocks = [lblock, square, line, step, tblock]"
      ],
      "metadata": {
        "colab": {
          "base_uri": "https://localhost:8080/"
        },
        "id": "IOzphoPg58Cq",
        "outputId": "2cdb12a6-d615-47cc-b13f-e6d1e986c873"
      },
      "execution_count": 8,
      "outputs": [
        {
          "output_type": "execute_result",
          "data": {
            "text/plain": [
              "torch.Size([10, 2])"
            ]
          },
          "metadata": {},
          "execution_count": 8
        }
      ]
    },
    {
      "cell_type": "code",
      "source": [
        "def compute_edges(points:torch.FloatTensor, cutoff:float=1.) -> torch.LongTensor:\n",
        "    \"\"\"\n",
        "    This function computes the edges of graph given an array of nodes with 2d coordinates.\n",
        "    The graph will we created by connecting all nodes with an euclidean distance smaller or equal\n",
        "    than the provided cutoff.\n",
        "\n",
        "    Args:\n",
        "    - points: tensor of coordinates with shape (num_nodes x 2)\n",
        "    - cutoff: cutoff distance to determine whether two points are connected in the graph.\n",
        "\n",
        "    Returns:\n",
        "    - edges: tensor of shape [num_edges x 2] where each row corresponds to the indices of the \n",
        "      connected nodes (incoming, outgoing)\n",
        "\n",
        "    \"\"\"\n",
        "\n",
        "    edges = torch.Tensor()\n",
        "    for i, node1 in enumerate(points): \n",
        "        # inner loop over possible neighbors\n",
        "        for j, node2 in enumerate(points):\n",
        "\n",
        "            # check cutoff\n",
        "            if  torch.sqrt((node1[0]-node2[0])**2 + (node1[1]-node2[1])**2) <= cutoff: ###since we have 2d array\n",
        "                new_edges = torch.Tensor([[i, j], [j, i]])\n",
        "                edges = torch.concat((edges, new_edges))\n",
        "    edges = edges.long()\n",
        "    return edges  \n",
        "\n",
        "    "
      ],
      "metadata": {
        "id": "Z-A61TfB9KYf"
      },
      "execution_count": 24,
      "outputs": []
    },
    {
      "cell_type": "code",
      "source": [
        "def create_dataset(shuffle:bool=False):\n",
        "    tetris_edges = []\n",
        "    tetris_points = []\n",
        "    for points in tetris_blocks:\n",
        "        if shuffle:\n",
        "            sort_idx = torch.randperm(points.shape[0])\n",
        "            points = points[sort_idx]\n",
        "        tetris_points.append(points)\n",
        "\n",
        "        edges = compute_edges(points)\n",
        "        tetris_edges.append(edges)\n",
        "    return tetris_points, tetris_edges\n",
        "\n",
        "tetris_points, tetris_edges = create_dataset(shuffle=False)\n",
        "\n",
        "plt.figure(figsize=(25, 5))\n",
        "for i, graph in enumerate(zip(tetris_points, tetris_edges)):\n",
        "    block, edges = graph\n",
        "    plt.subplot(1, 5, i+1)\n",
        "    X = torch.vstack([block[edges[:,0],0], block[edges[:,1], 0]])\n",
        "    Y = torch.vstack([block[edges[:,0],1], block[edges[:,1], 1]])\n",
        "    plt.plot(X, Y, c='k')\n",
        "    plt.gca().set_aspect('equal')\n",
        "\n",
        "plt.show()\n",
        "\n",
        "\n",
        "edges.flatten()"
      ],
      "metadata": {
        "colab": {
          "base_uri": "https://localhost:8080/",
          "height": 342
        },
        "id": "S2j7aqzjCtFP",
        "outputId": "7ff3b306-f70b-4053-c95b-96027fdc8d5c"
      },
      "execution_count": 65,
      "outputs": [
        {
          "output_type": "display_data",
          "data": {
            "text/plain": [
              "<Figure size 2500x500 with 5 Axes>"
            ],
            "image/png": "[encoded data removed]"
          },
          "metadata": {}
        },
        {
          "output_type": "execute_result",
          "data": {
            "text/plain": [
              "tensor([0, 0, 0, 0, 0, 1, 1, 0, 0, 4, 4, 0, 1, 0, 0, 1, 1, 1, 1, 1, 1, 2, 2, 1,\n",
              "        1, 5, 5, 1, 2, 1, 1, 2, 2, 2, 2, 2, 2, 3, 3, 2, 2, 6, 6, 2, 3, 2, 2, 3,\n",
              "        3, 3, 3, 3, 3, 7, 7, 3, 4, 0, 0, 4, 4, 4, 4, 4, 4, 5, 5, 4, 5, 1, 1, 5,\n",
              "        5, 4, 4, 5, 5, 5, 5, 5, 5, 6, 6, 5, 5, 8, 8, 5, 6, 2, 2, 6, 6, 5, 5, 6,\n",
              "        6, 6, 6, 6, 6, 7, 7, 6, 6, 9, 9, 6, 7, 3, 3, 7, 7, 6, 6, 7, 7, 7, 7, 7,\n",
              "        8, 5, 5, 8, 8, 8, 8, 8, 8, 9, 9, 8, 9, 6, 6, 9, 9, 8, 8, 9, 9, 9, 9, 9])"
            ]
          },
          "metadata": {},
          "execution_count": 65
        }
      ]
    },
    {
      "cell_type": "code",
      "source": [
        "def build_batch(edges_list:List[torch.Tensor]) -> Tuple[torch.LongTensor, torch.LongTensor, torch.LongTensor]:\n",
        "    num_nodes = torch.tensor([torch.max(edges)+1 for edges in edges_list])\n",
        "    classes = torch.arange(len(tetris_edges), dtype=torch.long)\n",
        "    block_idx = torch.repeat_interleave(classes, num_nodes)\n",
        "\n",
        "    # convert node indices to global batch indices\n",
        "    node_offsets = torch.cumsum(torch.cat([torch.zeros((1,), dtype=torch.long), num_nodes]), 0)\n",
        "    global_edges_list = [edges + node_offsets[i] for i, edges in enumerate(edges_list)]\n",
        "    batched_node_labels = torch.ones((torch.sum(num_nodes), 1))\n",
        "    batched_edges = torch.vstack(global_edges_list)\n",
        "    return batched_node_labels, batched_edges, block_idx, classes\n",
        "    \n",
        "batch = build_batch(tetris_edges)\n",
        "\n",
        "print(f'batched_node_labels [first 10 entrie]: {batch[0][:10]}')\n",
        "print(f'batched_edges [first 10 entrie]: {batch[1][:10]}')\n",
        "print(f'block_idx: {batch[2]}')\n",
        "print(f'classes: {batch[3]}')"
      ],
      "metadata": {
        "colab": {
          "base_uri": "https://localhost:8080/"
        },
        "id": "WsC1zV55HV8q",
        "outputId": "c89fe629-eeff-4e87-93f4-f9664e8f9bd4"
      },
      "execution_count": 26,
      "outputs": [
        {
          "output_type": "stream",
          "name": "stdout",
          "text": [
            "batched_node_labels [first 10 entrie]: tensor([[1.],\n",
            "        [1.],\n",
            "        [1.],\n",
            "        [1.],\n",
            "        [1.],\n",
            "        [1.],\n",
            "        [1.],\n",
            "        [1.],\n",
            "        [1.],\n",
            "        [1.]])\n",
            "batched_edges [first 10 entrie]: tensor([[0, 0],\n",
            "        [0, 0],\n",
            "        [0, 1],\n",
            "        [1, 0],\n",
            "        [0, 3],\n",
            "        [3, 0],\n",
            "        [1, 0],\n",
            "        [0, 1],\n",
            "        [1, 1],\n",
            "        [1, 1]])\n",
            "block_idx: tensor([0, 0, 0, 0, 0, 0, 0, 0, 0, 0, 1, 1, 1, 1, 1, 1, 1, 1, 1, 2, 2, 2, 2, 2,\n",
            "        2, 2, 2, 2, 2, 3, 3, 3, 3, 3, 3, 3, 3, 3, 3, 4, 4, 4, 4, 4, 4, 4, 4, 4,\n",
            "        4])\n",
            "classes: tensor([0, 1, 2, 3, 4])\n"
          ]
        }
      ]
    },
    {
      "cell_type": "code",
      "source": [
        "from torch._C import Value\n",
        "def scatter_add(x: torch.Tensor, idx: torch.Tensor, dim_size: int, dim: int = 0) -> torch.Tensor:\n",
        "    \"\"\"\n",
        "    Sum over given indices as described above.\n",
        "\n",
        "    Args:\n",
        "    - x: input tensor\n",
        "    - idx: index tensor\n",
        "    - dim: dimension along which is summed\n",
        "    - dim_size: size of the dimension along which is summed in the output tensor\n",
        "\n",
        "    Returns:\n",
        "    - summed_x: tensor with shape: x.shape[:dim] + (dim_size,) + x.shape[dim+1:]\n",
        "    \"\"\"\n",
        "    T = torch.zeros(x.shape[:dim] + (dim_size,) + x.shape[dim+1:], dtype=x.dtype)\n",
        "    summed_x = T.index_add_(dim, idx, x)\n",
        "    \n",
        "\n",
        "    return summed_x\n",
        "\n",
        "\n",
        "\n",
        "# Test\n",
        "x = torch.tensor(([1,2,3,4], [3,2,4,6]))\n",
        "idx = torch.tensor([0, 0, 1, 0])\n",
        "\n",
        "y = scatter_add(x, idx, dim_size=2, dim=1)\n",
        "print(\"Result:\", y)\n",
        "print(\"Expected:\", torch.tensor([[ 7,  3], [11,  4]]))"
      ],
      "metadata": {
        "colab": {
          "base_uri": "https://localhost:8080/"
        },
        "id": "k4FyJY1vOASG",
        "outputId": "ce6b4d46-1dc2-4ca7-a16f-2558ef25fd1b"
      },
      "execution_count": 53,
      "outputs": [
        {
          "output_type": "stream",
          "name": "stdout",
          "text": [
            "Result: tensor([[ 7,  3],\n",
            "        [11,  4]])\n",
            "Expected: tensor([[ 7,  3],\n",
            "        [11,  4]])\n"
          ]
        }
      ]
    },
    {
      "cell_type": "code",
      "source": [],
      "metadata": {
        "id": "HnQtmhNnh_JX"
      },
      "execution_count": null,
      "outputs": []
    },
    {
      "cell_type": "code",
      "source": [],
      "metadata": {
        "id": "GSntGueqX6vw"
      },
      "execution_count": null,
      "outputs": []
    },
    {
      "cell_type": "code",
      "source": [
        "tensor = torch.tensor([1, 2, 3, 4, 5])\n",
        "\n",
        "# Create an index tensor\n",
        "index = torch.tensor([0, 2, 4])\n",
        "\n",
        "# Create a value tensor\n",
        "values = torch.tensor([10, 20, 30])\n",
        "\n",
        "# Add values to tensor at specified indices\n",
        "result = torch.index_add(tensor, dim=0, index=index, source=values)\n",
        "\n",
        "print(result)"
      ],
      "metadata": {
        "colab": {
          "base_uri": "https://localhost:8080/"
        },
        "id": "GUeSyvklRjvj",
        "outputId": "fa5f3b78-f557-4b27-d56e-ceb8d7e1d8e1"
      },
      "execution_count": 29,
      "outputs": [
        {
          "output_type": "stream",
          "name": "stdout",
          "text": [
            "tensor([11,  2, 23,  4, 35])\n"
          ]
        }
      ]
    },
    {
      "cell_type": "code",
      "source": [
        "x = torch.ones(5, 3)\n",
        "t = torch.tensor([[1, 2, 3], [4, 5, 6], [7, 8, 9]], dtype=torch.float)\n",
        "index = torch.tensor([0, 4, 2])\n",
        "x.index_add_(0, index, t)\n",
        "x.index_add_(0, index, t, alpha=-1)\n",
        "\n",
        "\n"
      ],
      "metadata": {
        "colab": {
          "base_uri": "https://localhost:8080/"
        },
        "id": "y6jplykUX8Tf",
        "outputId": "71351d12-4392-467a-cd93-843c0da2b1ee"
      },
      "execution_count": 45,
      "outputs": [
        {
          "output_type": "execute_result",
          "data": {
            "text/plain": [
              "tensor([[1., 1., 1.],\n",
              "        [1., 1., 1.],\n",
              "        [1., 1., 1.],\n",
              "        [1., 1., 1.],\n",
              "        [1., 1., 1.]])"
            ]
          },
          "metadata": {},
          "execution_count": 45
        }
      ]
    },
    {
      "cell_type": "code",
      "source": [
        "class GraphConv(nn.Module):\n",
        "\n",
        "    def __init__(self, n_in:int , n_out: int, activation=F.relu):\n",
        "        super().__init__()\n",
        "        self.n_in = n_in\n",
        "        self.n_out = n_out\n",
        "        self.activation = activation\n",
        "        self.theta = nn.Parameter(torch.empty((n_in, n_out)))\n",
        "        torch.nn.init.xavier_uniform_(self.theta)\n",
        "\n",
        "\n",
        "    def forward(self, x:torch.Tensor, edges:torch.Tensor) -> torch.Tensor:\n",
        "        messages = self.compute_message(x, edges)\n",
        "\n",
        "        # aggregate messages for each node\n",
        "        aggregated_messages = self.aggregate(messages, edges)\n",
        "\n",
        "        # update node states\n",
        "        x = self.compute_update(x, aggregated_messages)\n",
        "        return x\n",
        "\n",
        "    def aggregate(self, messages:torch.Tensor, edges:torch.Tensor) -> torch.Tensor:\n",
        "        ## INSERT YOUR SOLUTION HERE\n",
        "\n",
        "        return scatter_add(messages, edges[:, 0], dim=0, dim_size=edges.max().item() + 1)\n",
        "        \n",
        "\n",
        "\n",
        "\n",
        "    def compute_message(self, x:torch.Tensor, edges:torch.Tensor) -> torch.Tensor:\n",
        "      n_nodes = torch.max(edges) + 1  # Assuming no unconnected nodes\n",
        "      A = torch.zeros((n_nodes, n_nodes))\n",
        "      A[edges[:, 0], edges[:, 1]] = 1\n",
        "      D = torch.diag(torch.sqrt(torch.sum(A, dim=1)))\n",
        "      L = torch.matmul(torch.matmul(D.inverse(), A), D.inverse())\n",
        "      messages = torch.matmul(L, x)\n",
        "      return messages\n",
        "\n",
        "    def compute_update(self, x:torch.Tensor, m:torch.Tensor) -> torch.Tensor:\n",
        "        ## INSERT YOUR SOLUTION HERE\n",
        "        y = torch.mm(m, theta)\n",
        "        y = activation(y)\n",
        "        return y"
      ],
      "metadata": {
        "id": "KPF8-GgviAVV"
      },
      "execution_count": 68,
      "outputs": []
    }
  ]
}